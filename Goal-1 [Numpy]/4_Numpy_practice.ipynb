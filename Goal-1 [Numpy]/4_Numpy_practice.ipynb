{
 "cells": [
  {
   "cell_type": "markdown",
   "id": "5d2d99e8",
   "metadata": {},
   "source": [
    "Here’s an exercise to test your skills with NumPy:\n",
    "\n",
    "### **Exercise: NumPy Array Manipulation and Operations**\n",
    "\n",
    "You are given a dataset that contains the number of hours a student studied each day for a month. Using NumPy, perform various tasks and operations on this dataset.\n",
    "\n",
    "```python\n",
    "import numpy as np\n",
    "\n",
    "# Dataset: Hours studied each day for a month (30 days)\n",
    "hours_studied = np.array([1, 3, 2, 4, 6, 2, 5, 3, 7, 5, \n",
    "                          6, 8, 7, 4, 5, 6, 8, 9, 2, 5, \n",
    "                          3, 4, 8, 6, 7, 9, 4, 5, 3, 2])\n",
    "```\n",
    "\n",
    "### **Tasks:**\n",
    "\n",
    "1. **Reshape the Array**:\n",
    "   Reshape the `hours_studied` array into a 2D array with 5 rows and 6 columns. Display the reshaped array.\n",
    "\n",
    "2. **Calculate the Total Hours**:\n",
    "   Calculate the total number of hours the student studied over the month using NumPy's sum function.\n",
    "\n",
    "3. **Daily Average**:\n",
    "   Find the average number of hours studied per day for the entire month.\n",
    "\n",
    "4. **Find Maximum and Minimum Hours**:\n",
    "   Identify the day with the maximum and minimum hours of study.\n",
    "\n",
    "5. **Replace Values**:\n",
    "   Replace all occurrences of 5 hours or more with 10. Print the modified array.\n",
    "\n",
    "6. **Cumulative Sum**:\n",
    "   Calculate the cumulative sum of the hours studied for the month.\n",
    "\n",
    "7. **Standard Deviation**:\n",
    "   Compute the standard deviation of the number of hours studied.\n",
    "\n",
    "8. **Boolean Masking**:\n",
    "   Create a Boolean mask for days where the student studied more than 6 hours. Use the mask to print the days with more than 6 hours of study.\n",
    "\n",
    "9. **Matrix Operations**:\n",
    "   Generate another random 2D array of shape (5,6) with values between 1 and 10, and add this new array to the reshaped `hours_studied` array from Task 1.\n",
    "\n",
    "10. **Linear Space Array**:\n",
    "    Create a 1D array with 50 equally spaced numbers between the minimum and maximum hours studied.\n",
    "\n",
    "---\n",
    "\n",
    "### **Extra Challenge:**\n",
    "\n",
    "11. **Sorting**:\n",
    "    Sort the `hours_studied` array in descending order. Display the sorted array.\n",
    "\n",
    "12. **Dot Product**:\n",
    "    Create a new 1D array representing the difficulty level of each day (random integers between 1 and 3) and compute the dot product between this array and the original `hours_studied` array.\n",
    "\n",
    "---\n",
    "\n",
    "### **Expected Skills Tested**:\n",
    "- Array creation, reshaping\n",
    "- Mathematical operations on arrays\n",
    "- Boolean indexing, slicing\n",
    "- Aggregation functions (sum, mean, etc.)\n",
    "- Broadcasting and matrix operations\n",
    "\n",
    "Let me know if you'd like hints or solutions for any of the tasks!"
   ]
  },
  {
   "cell_type": "code",
   "execution_count": 2,
   "id": "592e9e77",
   "metadata": {},
   "outputs": [
    {
     "name": "stdout",
     "output_type": "stream",
     "text": [
      "[1 3 2 4 6 2 5 3 7 5 6 8 7 4 5 6 8 9 2 5 3 4 8 6 7 9 4 5 3 2]\n"
     ]
    }
   ],
   "source": [
    "import numpy as np\n",
    "\n",
    "# Dataset: Hours studied each day for a month (30 days)\n",
    "hours_studied = np.array([1, 3, 2, 4, 6, 2, 5, 3, 7, 5, \n",
    "                          6, 8, 7, 4, 5, 6, 8, 9, 2, 5, \n",
    "                          3, 4, 8, 6, 7, 9, 4, 5, 3, 2])\n",
    "print(hours_studied)"
   ]
  },
  {
   "cell_type": "code",
   "execution_count": 6,
   "id": "e8170db4",
   "metadata": {},
   "outputs": [
    {
     "name": "stdout",
     "output_type": "stream",
     "text": [
      "shape of new array = (5, 6)\n",
      "[[1 3 2 4 6 2]\n",
      " [5 3 7 5 6 8]\n",
      " [7 4 5 6 8 9]\n",
      " [2 5 3 4 8 6]\n",
      " [7 9 4 5 3 2]]\n"
     ]
    }
   ],
   "source": [
    "#1 Reshape the Array: Reshape the hours_studied array into a 2D array with 5 rows and 6 columns. Display the reshaped array.\n",
    "hour_2d=hours_studied.reshape(5,6)\n",
    "print(f\"shape of new array = {hour_2d.shape}\")\n",
    "print(hour_2d)"
   ]
  },
  {
   "cell_type": "code",
   "execution_count": 11,
   "id": "4f863b0d",
   "metadata": {},
   "outputs": [
    {
     "name": "stdout",
     "output_type": "stream",
     "text": [
      "Total number of studied hour = 149\n"
     ]
    }
   ],
   "source": [
    "#2 Calculate the Total Hours: Calculate the total number of hours the student studied over the month using NumPy's sum function.\n",
    "total_hr=hour_2d.sum()\n",
    "print(f\"Total number of studied hour = {total_hr}\")"
   ]
  },
  {
   "cell_type": "code",
   "execution_count": 15,
   "id": "8152966c",
   "metadata": {},
   "outputs": [
    {
     "name": "stdout",
     "output_type": "stream",
     "text": [
      "Daily average = 4.966666666666667 hr/day\n"
     ]
    }
   ],
   "source": [
    "# 3 Daily Average: Find the average number of hours studied per day for the entire month.\n",
    "daily_avg=total_hr/len(hours_studied)\n",
    "print(f\"Daily average = {daily_avg} hr/day\")"
   ]
  },
  {
   "cell_type": "code",
   "execution_count": 17,
   "id": "03b7c893",
   "metadata": {},
   "outputs": [
    {
     "name": "stdout",
     "output_type": "stream",
     "text": [
      "Max hour studied =9 and Min hour studied is 1\n"
     ]
    }
   ],
   "source": [
    "# 4 Find Maximum and Minimum Hours: Identify the day with the maximum and minimum hours of study.\n",
    "min_hr=hours_studied.min()\n",
    "max_hr=hours_studied.max()\n",
    "print(f\"Max hour studied ={max_hr} and Min hour studied is {min_hr}\")"
   ]
  },
  {
   "cell_type": "code",
   "execution_count": 20,
   "id": "e20853e7",
   "metadata": {},
   "outputs": [
    {
     "name": "stdout",
     "output_type": "stream",
     "text": [
      "[1 3 2 4 6 2 5 3 7 5 6 8 7 4 5 6 8 9 2 5 3 4 8 6 7 9 4 5 3 2]\n",
      "[ 1  3  2  4 10  2 10  3 10 10 10 10 10  4 10 10 10 10  2 10  3  4 10 10\n",
      " 10 10  4 10  3  2]\n"
     ]
    }
   ],
   "source": [
    "# 5 Replace Values: Replace all occurrences of 5 hours or more with 10. Print the modified array\n",
    "cond = hours_studied>4\n",
    "print(hours_studied)\n",
    "for i in range(0,len(hours_studied)):\n",
    "    if cond[i]:\n",
    "        hours_studied[i]=10\n",
    "print(hours_studied)\n",
    "\n",
    "# ---------------------Better way to do the same -----------------------#\n",
    "\"\"\"\n",
    "hours_studied[hours_studied >= 5] = 10\n",
    "\"\"\""
   ]
  },
  {
   "cell_type": "code",
   "execution_count": 21,
   "id": "6cb8a18b",
   "metadata": {},
   "outputs": [
    {
     "data": {
      "text/plain": [
       "array([  1,   4,   6,  10,  20,  22,  32,  35,  45,  55,  65,  75,  85,\n",
       "        89,  99, 109, 119, 129, 131, 141, 144, 148, 158, 168, 178, 188,\n",
       "       192, 202, 205, 207], dtype=int32)"
      ]
     },
     "execution_count": 21,
     "metadata": {},
     "output_type": "execute_result"
    }
   ],
   "source": [
    "# 6 Cumulative Sum: Calculate the cumulative sum of the hours studied for the month.\n",
    "np.cumsum(hours_studied)"
   ]
  },
  {
   "cell_type": "code",
   "execution_count": 23,
   "id": "bf9dd3ed",
   "metadata": {},
   "outputs": [
    {
     "name": "stdout",
     "output_type": "stream",
     "text": [
      "Standard deviation of hours studied: 3.5995370072644994\n"
     ]
    }
   ],
   "source": [
    "# 7 Standard Deviation: Compute the standard deviation of the number of hours studied.\n",
    "std_dev=np.std(hours_studied)\n",
    "print(f\"Standard deviation of hours studied: {std_dev}\")"
   ]
  },
  {
   "cell_type": "code",
   "execution_count": 37,
   "id": "84275907",
   "metadata": {},
   "outputs": [
    {
     "name": "stdout",
     "output_type": "stream",
     "text": [
      "[ 5  7  9 10 11 12 13 15 16 17 18 20 23 24 25 26 28]\n"
     ]
    }
   ],
   "source": [
    "# 8 Boolean Masking: Create a Boolean mask for days where the student studied more than 6 hours. \n",
    "# Use the mask to print the days with more than 6 hours of study.\n",
    "mask=hours_studied>=6\n",
    "# Print the days and corresponding hours with more than 6 hours of study\n",
    "days = np.where(mask)[0] + 1  # To get the days (1-indexed)\n",
    "hours = hours_studied[mask]  # To get the corresponding hours\n",
    "print(days)"
   ]
  },
  {
   "cell_type": "code",
   "execution_count": 49,
   "id": "ca3d50ef",
   "metadata": {},
   "outputs": [
    {
     "name": "stdout",
     "output_type": "stream",
     "text": [
      "[[10 12  4 11 14  8]\n",
      " [17  5 19 18 19 11]\n",
      " [13  6 20 17 18 18]\n",
      " [ 9 15  6  7 16 17]\n",
      " [11 13 13 14  6  8]]\n"
     ]
    }
   ],
   "source": [
    "# 9 Matrix Operations: Generate another random 2D array of shape (5,6) with values between 1 and 10, \n",
    "# and add this new array to the reshaped hours_studied array from Task 1.\n",
    "new_2d=np.random.randint(1,11,size=(5,6))\n",
    "print(hour_2d+new_2d)"
   ]
  },
  {
   "cell_type": "code",
   "execution_count": 42,
   "id": "5bc30a92",
   "metadata": {},
   "outputs": [
    {
     "name": "stdout",
     "output_type": "stream",
     "text": [
      "[ 1.          1.18367347  1.36734694  1.55102041  1.73469388  1.91836735\n",
      "  2.10204082  2.28571429  2.46938776  2.65306122  2.83673469  3.02040816\n",
      "  3.20408163  3.3877551   3.57142857  3.75510204  3.93877551  4.12244898\n",
      "  4.30612245  4.48979592  4.67346939  4.85714286  5.04081633  5.2244898\n",
      "  5.40816327  5.59183673  5.7755102   5.95918367  6.14285714  6.32653061\n",
      "  6.51020408  6.69387755  6.87755102  7.06122449  7.24489796  7.42857143\n",
      "  7.6122449   7.79591837  7.97959184  8.16326531  8.34693878  8.53061224\n",
      "  8.71428571  8.89795918  9.08163265  9.26530612  9.44897959  9.63265306\n",
      "  9.81632653 10.        ]\n",
      "length = 50\n"
     ]
    }
   ],
   "source": [
    "# 10 Linear Space Array: Create a 1D array with 50 equally spaced numbers between the minimum and maximum hours studied.\n",
    "linear=np.linspace(hours_studied.min(),hours_studied.max())\n",
    "print(linear)\n",
    "print(f\"length = {len(linear)}\")"
   ]
  },
  {
   "cell_type": "code",
   "execution_count": 53,
   "id": "6471108c",
   "metadata": {},
   "outputs": [
    {
     "name": "stdout",
     "output_type": "stream",
     "text": [
      "[1, 2, 2, 2, 2, 3, 3, 3, 3, 4, 4, 4, 4, 10, 10, 10, 10, 10, 10, 10, 10, 10, 10, 10, 10, 10, 10, 10, 10, 10]\n"
     ]
    }
   ],
   "source": [
    "# 11 Sorting: Sort the hours_studied array in descending order. Display the sorted array.\n",
    "print(sorted(hours_studied))\n"
   ]
  },
  {
   "cell_type": "code",
   "execution_count": 55,
   "id": "5288dd41",
   "metadata": {},
   "outputs": [
    {
     "name": "stdout",
     "output_type": "stream",
     "text": [
      "Difficulty levels: [1 1 3 1 3 2 2 3 3 3 3 2 1 1 1 3 2 2 2 3 1 1 1 2 2 3 3 2 1 3]\n",
      "Dot product: 413\n"
     ]
    }
   ],
   "source": [
    "# 12 Dot Product: Create a new 1D array representing the difficulty level of each day (random integers between 1 and 3) \n",
    "# and compute the dot product between this array and the original hours_studied array.\n",
    "difficulty_levels = np.random.randint(1, 4, size=hours_studied.shape)\n",
    "dot_product = np.dot(hours_studied, difficulty_levels)\n",
    "\n",
    "print(f\"Difficulty levels: {difficulty_levels}\")\n",
    "print(f\"Dot product: {dot_product}\")"
   ]
  }
 ],
 "metadata": {
  "kernelspec": {
   "display_name": "Python 3 (ipykernel)",
   "language": "python",
   "name": "python3"
  },
  "language_info": {
   "codemirror_mode": {
    "name": "ipython",
    "version": 3
   },
   "file_extension": ".py",
   "mimetype": "text/x-python",
   "name": "python",
   "nbconvert_exporter": "python",
   "pygments_lexer": "ipython3",
   "version": "3.7.16"
  }
 },
 "nbformat": 4,
 "nbformat_minor": 5
}
