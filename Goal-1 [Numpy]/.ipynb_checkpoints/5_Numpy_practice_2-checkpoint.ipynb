{
 "cells": [
  {
   "cell_type": "markdown",
   "id": "e2e3533c",
   "metadata": {},
   "source": [
    "# Practice Numpy\n",
    "    There are ton of ways to do that so if you have any other way of doing that you can go ahead and continue that and if   not then i found this website very helpful \n",
    "```bash\n",
    "https://www.machinelearningplus.com/python/101-numpy-exercises-python/\n",
    "```\n",
    "\n",
    "Note: Each cell will be the answer to the question from the above mentioned link"
   ]
  },
  {
   "cell_type": "code",
   "execution_count": 2,
   "id": "3a6f966d",
   "metadata": {},
   "outputs": [
    {
     "data": {
      "text/plain": [
       "'1.21.5'"
      ]
     },
     "execution_count": 2,
     "metadata": {},
     "output_type": "execute_result"
    }
   ],
   "source": [
    "# Ques 1. Import numpy as np and see the version\n",
    "\n",
    "\n",
    "import numpy as np\n",
    "np.__version__"
   ]
  },
  {
   "cell_type": "code",
   "execution_count": 4,
   "id": "900d2065",
   "metadata": {},
   "outputs": [
    {
     "data": {
      "text/plain": [
       "array([0, 1, 2, 3, 4, 5, 6, 7, 8, 9])"
      ]
     },
     "execution_count": 4,
     "metadata": {},
     "output_type": "execute_result"
    }
   ],
   "source": [
    "#Ques 2. How to create a 1D array 0 to 9?\n",
    "\n",
    "\n",
    "arr=np.arange(0,10)\n",
    "arr"
   ]
  },
  {
   "cell_type": "code",
   "execution_count": 20,
   "id": "db8070a2",
   "metadata": {},
   "outputs": [
    {
     "name": "stdout",
     "output_type": "stream",
     "text": [
      "[[ True  True  True]\n",
      " [ True  True  True]\n",
      " [ True  True  True]]\n",
      "[[ True  True  True]\n",
      " [ True  True  True]\n",
      " [ True  True  True]]\n"
     ]
    }
   ],
   "source": [
    "#Ques 3. Create a 3×3 numpy array of all True’s\n",
    "\n",
    "\n",
    "# The numpy.full() function creates a new array of a specified shape \n",
    "# and fills it with a specified value.\n",
    "# numpy.full(shape, fill_value, dtype=None, order='C')\n",
    "\n",
    "print(np.full((3,3),True,dtype=bool) ) # method 1\n",
    "other = np.repeat(True,9).reshape(3,-1) # method 2\n",
    "print(other)"
   ]
  },
  {
   "cell_type": "code",
   "execution_count": 10,
   "id": "c8c64f2a",
   "metadata": {},
   "outputs": [
    {
     "data": {
      "text/plain": [
       "array([1, 3, 5, 7, 9])"
      ]
     },
     "execution_count": 10,
     "metadata": {},
     "output_type": "execute_result"
    }
   ],
   "source": [
    "# Ques 4.  Extract all odd numbers from arr\n",
    "\n",
    "\n",
    "arr = np.array([0, 1, 2, 3, 4, 5, 6, 7, 8, 9])\n",
    "arr[arr%2!=0]"
   ]
  },
  {
   "cell_type": "code",
   "execution_count": 11,
   "id": "d3e1128a",
   "metadata": {},
   "outputs": [
    {
     "data": {
      "text/plain": [
       "array([ 0, -1,  2, -1,  4, -1,  6, -1,  8, -1])"
      ]
     },
     "execution_count": 11,
     "metadata": {},
     "output_type": "execute_result"
    }
   ],
   "source": [
    "# Ques 5. Replace all odd numbers in arr with -1\n",
    "\n",
    "arr[arr%2!=0]=-1\n",
    "arr"
   ]
  },
  {
   "cell_type": "markdown",
   "id": "c46b8b2c",
   "metadata": {},
   "source": [
    "# The numpy.where() function\n",
    "    Is used to return elements chosen from two arrays based on a condition. It can also be used to obtain indices of elements satisfying a condition. It is a powerful function for conditional operations and data manipulatio\n",
    "    \n",
    "    syntax:\n",
    "    numpy.where(condition, x=True, y=False)\n",
    "          when the condition is \"True\" x will be taken \n",
    "          when \"False\" value from y will be taken"
   ]
  },
  {
   "cell_type": "code",
   "execution_count": 13,
   "id": "7225f864",
   "metadata": {},
   "outputs": [
    {
     "name": "stdout",
     "output_type": "stream",
     "text": [
      "[ 0 -1  2 -1  4 -1  6 -1  8 -1]\n"
     ]
    },
    {
     "data": {
      "text/plain": [
       "array([0, 1, 2, 3, 4, 5, 6, 7, 8, 9])"
      ]
     },
     "execution_count": 13,
     "metadata": {},
     "output_type": "execute_result"
    }
   ],
   "source": [
    "# Ques 6. Replace all odd numbers in arr with -1 without changing arr\n",
    "\n",
    "\n",
    "arr = np.array([0, 1, 2, 3, 4, 5, 6, 7, 8, 9])\n",
    "print(np.where(arr%2!=0, -1,arr))\n",
    "arr"
   ]
  },
  {
   "cell_type": "code",
   "execution_count": 16,
   "id": "a54228ee",
   "metadata": {},
   "outputs": [
    {
     "name": "stdout",
     "output_type": "stream",
     "text": [
      "[0 1 2 3 4 5 6 7 8 9]\n"
     ]
    },
    {
     "data": {
      "text/plain": [
       "array([[0, 1, 2, 3, 4],\n",
       "       [5, 6, 7, 8, 9]])"
      ]
     },
     "execution_count": 16,
     "metadata": {},
     "output_type": "execute_result"
    }
   ],
   "source": [
    "# Ques 7. Convert a 1D array to a 2D array with 2 rows\n",
    "\n",
    "arr=np.arange(10)\n",
    "print(arr)\n",
    "arr=arr.reshape(2,-1) # using -1 will automatically decide the number of columns\n",
    "arr"
   ]
  },
  {
   "cell_type": "code",
   "execution_count": 30,
   "id": "3bb38376",
   "metadata": {},
   "outputs": [
    {
     "data": {
      "text/plain": [
       "array([[0, 1, 2, 3, 4],\n",
       "       [5, 6, 7, 8, 9],\n",
       "       [1, 1, 1, 1, 1],\n",
       "       [1, 1, 1, 1, 1]])"
      ]
     },
     "execution_count": 30,
     "metadata": {},
     "output_type": "execute_result"
    }
   ],
   "source": [
    "# Ques 8.Stack arrays a and b vertically\n",
    "\n",
    "\n",
    "a = np.arange(10).reshape(2,-1)\n",
    "b = np.repeat(1, 10).reshape(2,-1)\n",
    "\n",
    "# Method 1:\n",
    "np.concatenate([a, b], axis=0) # axis=0 (row)\n",
    "\n",
    "# Method 2:\n",
    "np.vstack([a, b]) # vertical stack\n",
    "\n",
    "# Method 3:\n",
    "np.r_[a, b]"
   ]
  },
  {
   "cell_type": "code",
   "execution_count": 31,
   "id": "0a31401e",
   "metadata": {},
   "outputs": [
    {
     "data": {
      "text/plain": [
       "array([[0, 1, 2, 3, 4, 1, 1, 1, 1, 1],\n",
       "       [5, 6, 7, 8, 9, 1, 1, 1, 1, 1]])"
      ]
     },
     "execution_count": 31,
     "metadata": {},
     "output_type": "execute_result"
    }
   ],
   "source": [
    "# Ques 9. Stack the arrays a and b horizontally.\n",
    "\n",
    "a = np.arange(10).reshape(2,-1)\n",
    "\n",
    "b = np.repeat(1, 10).reshape(2,-1)\n",
    "\n",
    "# Method 1:\n",
    "np.concatenate([a,b],axis=1)\n",
    "\n",
    "# Method 2:\n",
    "np.hstack([a,b]) # horizontal stack\n",
    "\n",
    "# Method 3:\n",
    "np.c_[a, b]"
   ]
  },
  {
   "cell_type": "code",
   "execution_count": 32,
   "id": "15000e78",
   "metadata": {},
   "outputs": [
    {
     "data": {
      "text/plain": [
       "array([1, 1, 1, 2, 2, 2, 3, 3, 3, 1, 2, 3, 1, 2, 3, 1, 2, 3])"
      ]
     },
     "execution_count": 32,
     "metadata": {},
     "output_type": "execute_result"
    }
   ],
   "source": [
    "# Ques 10. Create the following pattern without hardcoding. \n",
    "           #Use only numpy functions and the below input array a.\n",
    "           # array([1, 1, 1, 2, 2, 2, 3, 3, 3, 1, 2, 3, 1, 2, 3, 1, 2, 3])\n",
    "        \n",
    "        \n",
    "a = np.array([1,2,3])\n",
    "np.r_[np.repeat(a, 3), np.tile(a, 3)]"
   ]
  },
  {
   "cell_type": "code",
   "execution_count": 34,
   "id": "d7b290e8",
   "metadata": {},
   "outputs": [
    {
     "data": {
      "text/plain": [
       "array([1, 1, 1, 2, 2, 2, 3, 3, 3])"
      ]
     },
     "execution_count": 34,
     "metadata": {},
     "output_type": "execute_result"
    }
   ],
   "source": [
    "np.repeat(a,3) # Repeats each element in a 3 times."
   ]
  },
  {
   "cell_type": "code",
   "execution_count": 35,
   "id": "ce608b46",
   "metadata": {},
   "outputs": [
    {
     "data": {
      "text/plain": [
       "array([1, 2, 3, 1, 2, 3, 1, 2, 3])"
      ]
     },
     "execution_count": 35,
     "metadata": {},
     "output_type": "execute_result"
    }
   ],
   "source": [
    "np.tile(a,3) # Repeats the entire array a 3 times."
   ]
  },
  {
   "cell_type": "code",
   "execution_count": 37,
   "id": "62f3e296",
   "metadata": {},
   "outputs": [
    {
     "data": {
      "text/plain": [
       "array([2, 3, 4, 3, 4, 5, 4, 5, 6])"
      ]
     },
     "execution_count": 37,
     "metadata": {},
     "output_type": "execute_result"
    }
   ],
   "source": [
    "np.repeat(a,3)+np.tile(a,3) # this will add 2 arrays instead of concatenating "
   ]
  },
  {
   "cell_type": "code",
   "execution_count": 39,
   "id": "64db4a09",
   "metadata": {},
   "outputs": [
    {
     "data": {
      "text/plain": [
       "array([1, 1, 1, 2, 2, 2, 3, 3, 3, 1, 2, 3, 1, 2, 3, 1, 2, 3])"
      ]
     },
     "execution_count": 39,
     "metadata": {},
     "output_type": "execute_result"
    }
   ],
   "source": [
    "np.concatenate([np.repeat(a,3),np.tile(a,3)]) # correct"
   ]
  },
  {
   "cell_type": "code",
   "execution_count": 43,
   "id": "0c5428f6",
   "metadata": {},
   "outputs": [
    {
     "data": {
      "text/plain": [
       "array([2, 4])"
      ]
     },
     "execution_count": 43,
     "metadata": {},
     "output_type": "execute_result"
    }
   ],
   "source": [
    "#Ques 11. Get the common items between a and b\n",
    "\n",
    "a = np.array([1,2,3,2,3,4,3,4,5,6])\n",
    "b = np.array([7,2,10,2,7,4,9,4,9,8])\n",
    "\n",
    "temp=np.intersect1d(a,b)\n",
    "temp"
   ]
  },
  {
   "cell_type": "code",
   "execution_count": 46,
   "id": "39ea791c",
   "metadata": {},
   "outputs": [
    {
     "data": {
      "text/plain": [
       "array([1, 2, 3, 4])"
      ]
     },
     "execution_count": 46,
     "metadata": {},
     "output_type": "execute_result"
    }
   ],
   "source": [
    "# Ques 12. From array \"a\" remove all items present in array b\n",
    "\n",
    "\n",
    "a = np.array([1,2,3,4,5])\n",
    "b = np.array([5,6,7,8,9])\n",
    "\n",
    "union=np.intersect1d(a,b)\n",
    "mask=~np.isin(a,b) #create a boolean mask where elements of 'a' are not in 'b'\n",
    "a[mask]\n",
    "\n",
    "#note: Both numpy and pandas has this isin function but they differ in syntax\n",
    "# In Numpy synatx = numpy.isin(a,b)  [Elements common in a,b]\n",
    "# In Pandas syntax = a.isin(b)"
   ]
  },
  {
   "cell_type": "code",
   "execution_count": 47,
   "id": "2011ef3a",
   "metadata": {},
   "outputs": [
    {
     "data": {
      "text/plain": [
       "(array([1, 3, 5, 7], dtype=int64),)"
      ]
     },
     "execution_count": 47,
     "metadata": {},
     "output_type": "execute_result"
    }
   ],
   "source": [
    "# Ques 13.Get the positions where elements of a and b match\n",
    "\n",
    "\n",
    "a = np.array([1,2,3,2,3,4,3,4,5,6])\n",
    "b = np.array([7,2,10,2,7,4,9,4,9,8])\n",
    "np.where(a==b)"
   ]
  },
  {
   "cell_type": "code",
   "execution_count": 51,
   "id": "d5ab043f",
   "metadata": {},
   "outputs": [
    {
     "name": "stdout",
     "output_type": "stream",
     "text": [
      "[ 6  9 10]\n"
     ]
    },
    {
     "data": {
      "text/plain": [
       "array([ 6,  9, 10])"
      ]
     },
     "execution_count": 51,
     "metadata": {},
     "output_type": "execute_result"
    }
   ],
   "source": [
    "# Ques 14.  Get all items between 5 and 10 from a.\n",
    "\n",
    "a = np.array([2, 6, 1, 9, 10, 3, 27])\n",
    "\n",
    "# Method 1\n",
    "index = np.where((a >= 5) & (a <= 10))\n",
    "print(a[index])\n",
    "\n",
    "# Method 2\n",
    "a[(a>=5) & (a<=10)]"
   ]
  },
  {
   "cell_type": "markdown",
   "id": "464ebe1f",
   "metadata": {},
   "source": [
    "## numpy.vectorize()\n",
    "    Is a NumPy function that allows you to apply a Python function element-wise to arrays. It            transforms a regular Python function, which normally operates on scalars, into a vectorized    function that can operate on NumPy arrays.\n",
    "    \n",
    "    Syntax:\n",
    "        np.vectorize(pyfunc, otypes=None, signature=None)\n"
   ]
  },
  {
   "cell_type": "code",
   "execution_count": 55,
   "id": "96beb417",
   "metadata": {},
   "outputs": [
    {
     "data": {
      "text/plain": [
       "array([6, 7, 9, 8, 9, 7, 5])"
      ]
     },
     "execution_count": 55,
     "metadata": {},
     "output_type": "execute_result"
    }
   ],
   "source": [
    "# Ques 15. Convert the function maxx that works on two scalars, to work on two arrays.\n",
    "def maxx(x, y):\n",
    "    \"\"\"Get the maximum of two items\"\"\"\n",
    "    if x >= y:\n",
    "        return x\n",
    "    else:\n",
    "        return y\n",
    "\n",
    "a = np.array([5, 7, 9, 8, 6, 4, 5])\n",
    "b = np.array([6, 3, 4, 8, 9, 7, 1])\n",
    "\n",
    "pair_max = np.vectorize(maxx, otypes=[int])\n",
    "pair_max(a,b)"
   ]
  }
 ],
 "metadata": {
  "kernelspec": {
   "display_name": "Python 3 (ipykernel)",
   "language": "python",
   "name": "python3"
  },
  "language_info": {
   "codemirror_mode": {
    "name": "ipython",
    "version": 3
   },
   "file_extension": ".py",
   "mimetype": "text/x-python",
   "name": "python",
   "nbconvert_exporter": "python",
   "pygments_lexer": "ipython3",
   "version": "3.7.16"
  }
 },
 "nbformat": 4,
 "nbformat_minor": 5
}
