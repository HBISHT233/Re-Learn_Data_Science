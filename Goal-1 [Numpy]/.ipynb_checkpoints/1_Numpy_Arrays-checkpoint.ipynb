{
 "cells": [
  {
   "cell_type": "code",
   "execution_count": 1,
   "id": "ca60aa25",
   "metadata": {},
   "outputs": [],
   "source": [
    "import numpy as np"
   ]
  },
  {
   "cell_type": "code",
   "execution_count": 2,
   "id": "69eb880a",
   "metadata": {},
   "outputs": [
    {
     "name": "stdout",
     "output_type": "stream",
     "text": [
      "<class 'list'>\n"
     ]
    }
   ],
   "source": [
    "my_list = [1,2,3]\n",
    "print(type(my_list))"
   ]
  },
  {
   "cell_type": "code",
   "execution_count": 3,
   "id": "448fb59f",
   "metadata": {},
   "outputs": [
    {
     "name": "stdout",
     "output_type": "stream",
     "text": [
      "<class 'numpy.ndarray'>\n"
     ]
    }
   ],
   "source": [
    "arr=np.array(my_list)\n",
    "print(type(arr))"
   ]
  },
  {
   "cell_type": "code",
   "execution_count": 10,
   "id": "21734dce",
   "metadata": {},
   "outputs": [
    {
     "name": "stdout",
     "output_type": "stream",
     "text": [
      "[[1, 2, 3], [4, 5, 6], [7, 8, 9]] is of type <class 'list'>\n",
      "[[1 2 3]\n",
      " [4 5 6]\n",
      " [7 8 9]] is of shape (3, 3)\n"
     ]
    }
   ],
   "source": [
    "l=[[1,2,3],[4,5,6],[7,8,9]]\n",
    "print(f\"{l} is of type {type(l)}\")\n",
    "\n",
    "# to convert this 2d array to a matrix  we will use numpy\n",
    "matrix =np.array(l)\n",
    "print(f\"{matrix} is of shape {matrix.shape}\") # 3x3 matrix"
   ]
  },
  {
   "cell_type": "markdown",
   "id": "f6ecf7d6",
   "metadata": {},
   "source": [
    "## Create an array using Numpy\n",
    "\n",
    "    numpy.arange([start, ]stop, [step, ]dtype=None)"
   ]
  },
  {
   "cell_type": "code",
   "execution_count": 21,
   "id": "82d7e8b2",
   "metadata": {},
   "outputs": [
    {
     "name": "stdout",
     "output_type": "stream",
     "text": [
      "[ 0  1  2  3  4  5  6  7  8  9 10]\n",
      "[10  9  8  7  6  5  4  3  2  1  0]\n",
      "[0.  0.1 0.2 0.3 0.4 0.5 0.6 0.7 0.8 0.9]\n",
      "[0 0 0 0 0]\n",
      "[[0 0 0 0]\n",
      " [0 0 0 0]\n",
      " [0 0 0 0]]\n"
     ]
    }
   ],
   "source": [
    "print(np.arange(0,11)) \n",
    "print(np.arange(10,-1,-1)) \n",
    "arr = np.arange(0, 1, 0.1, dtype=float)\n",
    "print(arr)"
   ]
  },
  {
   "cell_type": "markdown",
   "id": "ec9b0d24",
   "metadata": {},
   "source": [
    "## For an array of all zeros\n",
    "    \n",
    "    numpy.zeros(shape, dtype=float, order='C')\n"
   ]
  },
  {
   "cell_type": "code",
   "execution_count": null,
   "id": "75b61464",
   "metadata": {},
   "outputs": [],
   "source": [
    "# array of zeros\n",
    "print(np.zeros(5,dtype=int)) # dedault dtype is Float\n",
    "arr = np.zeros((3, 4),dtype=int) #(rows,columns)\n",
    "print(arr)"
   ]
  },
  {
   "cell_type": "markdown",
   "id": "fc5426eb",
   "metadata": {},
   "source": [
    "# For all ones\n",
    "    numpy.ones(shape, dtype=float, order='C')"
   ]
  },
  {
   "cell_type": "code",
   "execution_count": 24,
   "id": "7a5261fd",
   "metadata": {},
   "outputs": [
    {
     "name": "stdout",
     "output_type": "stream",
     "text": [
      "[1 1 1 1 1]\n"
     ]
    }
   ],
   "source": [
    "print(np.ones(5,dtype=int))"
   ]
  },
  {
   "cell_type": "markdown",
   "id": "c32d7aeb",
   "metadata": {},
   "source": [
    "\n",
    "### Ques1) create an 3x3 matix with all elements as 12 and after that subract 5 from each element"
   ]
  },
  {
   "cell_type": "code",
   "execution_count": 30,
   "id": "7b36dd1b",
   "metadata": {},
   "outputs": [
    {
     "name": "stdout",
     "output_type": "stream",
     "text": [
      "[[12 12 12]\n",
      " [12 12 12]\n",
      " [12 12 12]] is of dimension (3, 3)\n",
      "[[7 7 7]\n",
      " [7 7 7]\n",
      " [7 7 7]]\n"
     ]
    }
   ],
   "source": [
    "mat=np.ones((3,3),dtype=int)*12\n",
    "print(f\"{mat} is of dimension {mat.shape}\")\n",
    "\n",
    "mat=mat-5\n",
    "print(mat)"
   ]
  },
  {
   "cell_type": "markdown",
   "id": "8a964b34",
   "metadata": {},
   "source": [
    "## Linearly spaced array\n",
    "    numpy.linspace(start, stop, num=50, endpoint=True, retstep=False, dtype=None, axis=0)\n",
    "    \n",
    "    num: The number of samples to generate. Default is 50.\n",
    "    endpoint: If True (default), stop is the last value in the range. If False, it is not included.\n",
    "    retstep: If True, return the step size between values along with the array. Default is False\n",
    "  \n",
    "  ### Note: Both start and end is included in the linearly spaced array\n"
   ]
  },
  {
   "cell_type": "code",
   "execution_count": 37,
   "id": "1d49d4f6",
   "metadata": {},
   "outputs": [
    {
     "name": "stdout",
     "output_type": "stream",
     "text": [
      "[ 0.          1.42857143  2.85714286  4.28571429  5.71428571  7.14285714\n",
      "  8.57142857 10.        ]\n",
      "Length of num = 8\n"
     ]
    }
   ],
   "source": [
    "num=np.linspace(0,10,num=8) # both start and end are included \n",
    "print(num)\n",
    "print(f\"Length of num = {len(num)}\") #8 since we requested for 8 equi-distant numbers"
   ]
  },
  {
   "cell_type": "markdown",
   "id": "32667d4e",
   "metadata": {},
   "source": [
    "## Create an Identity Matrix\n",
    "    which has only 1s in diagonal and rest of the element is zero\n",
    "    numpy.eye(N, M=None, k=0, dtype=float, order='C')\n",
    "    \n",
    "    N: Number of rows in the output matrix.\n",
    "    M: Number of columns in the output matrix. If None, it defaults to N (i.e., the matrix will be square).\n",
    "    k: Diagonal in question. Default is 0, which refers to the main diagonal. Positive values refer to diagonals \n",
    "       above the main diagonal, and negative values refer to diagonals below.\n"
   ]
  },
  {
   "cell_type": "code",
   "execution_count": 39,
   "id": "96478d61",
   "metadata": {},
   "outputs": [
    {
     "name": "stdout",
     "output_type": "stream",
     "text": [
      "[[1 0 0 0]\n",
      " [0 1 0 0]\n",
      " [0 0 1 0]]\n"
     ]
    }
   ],
   "source": [
    "print(np.eye(3,4,dtype=int))"
   ]
  },
  {
   "cell_type": "markdown",
   "id": "f13627c6",
   "metadata": {},
   "source": [
    "## Create random numbers\n",
    "The `numpy.random` module in NumPy provides functions for generating random numbers and performing random operations. This module is useful for tasks such as simulations, testing algorithms, and creating random datasets.\n",
    "\n",
    "### **Key Functions in `numpy.random`**\n",
    "\n",
    "Here are some commonly used functions from `numpy.random`:\n",
    "\n",
    "1. **`numpy.random.rand`**\n",
    "\n",
    "   Generates random numbers from a uniform distribution over [0, 1).\n",
    "\n",
    "   ```python\n",
    "   arr = np.random.rand(3, 2)\n",
    "   print(arr)\n",
    "   ```\n",
    "\n",
    "   **Output**:\n",
    "   ```\n",
    "   [[0.96396653 0.73174974]\n",
    "    [0.51684794 0.24066518]\n",
    "    [0.27697977 0.06095282]]\n",
    "   ```\n",
    "\n",
    "2. **`numpy.random.randn`**\n",
    "\n",
    "   Generates random numbers from a standard normal distribution (mean 0, standard deviation 1).\n",
    "\n",
    "   ```python\n",
    "   arr = np.random.randn(2, 3)\n",
    "   print(arr)\n",
    "   ```\n",
    "\n",
    "   **Output**:\n",
    "   ```\n",
    "   [[ 1.20105982 -0.43100507  0.38559543]\n",
    "    [-0.26714863 -0.33052843 -0.04681264]]\n",
    "   ```\n",
    "\n",
    "3. **`numpy.random.randint`**\n",
    "\n",
    "   Generates random integers from a specified range.\n",
    "\n",
    "   ```python\n",
    "   arr = np.random.randint(1, 10, size=(2, 3))\n",
    "   print(arr)\n",
    "   ```\n",
    "\n",
    "   **Output**:\n",
    "   ```\n",
    "   [[3 4 9]\n",
    "    [1 5 7]]\n",
    "   ```\n",
    "\n",
    "4. **`numpy.random.choice`**\n",
    "\n",
    "   Generates a random sample from a given array.\n",
    "\n",
    "   ```python\n",
    "   arr = np.random.choice([10, 20, 30, 40], size=5)\n",
    "   print(arr)\n",
    "   ```\n",
    "\n",
    "   **Output**:\n",
    "   ```\n",
    "   [30 10 20 30 40]\n",
    "   ```\n",
    "\n",
    "5. **`numpy.random.seed`**\n",
    "\n",
    "   Sets the seed for the random number generator to ensure reproducibility.\n",
    "\n",
    "   ```python\n",
    "   np.random.seed(0)\n",
    "   arr = np.random.rand(2, 2)\n",
    "   print(arr)\n",
    "   ```\n",
    "\n",
    "   **Output**:\n",
    "   ```\n",
    "   [[0.5488135  0.71518937]\n",
    "    [0.60276338 0.54488318]]\n",
    "   ```\n",
    "\n",
    "6. **`numpy.random.permutation`**\n",
    "\n",
    "   Randomly permutes a sequence or returns a permuted range.\n",
    "\n",
    "   ```python\n",
    "   arr = np.random.permutation([1, 2, 3, 4, 5])\n",
    "   print(arr)\n",
    "   ```\n",
    "\n",
    "   **Output**:\n",
    "   ```\n",
    "   [3 1 5 4 2]\n",
    "   ```\n",
    "\n",
    "7. **`numpy.random.shuffle`**\n",
    "\n",
    "   Shuffles the array in place.\n",
    "\n",
    "   ```python\n",
    "   import numpy as np\n",
    "\n",
    "   arr = np.array([1, 2, 3, 4, 5])\n",
    "   np.random.shuffle(arr)\n",
    "   print(arr)\n",
    "   ```\n",
    "\n",
    "   **Output**:\n",
    "   ```\n",
    "   [2 4 1 5 3]\n",
    "   ```\n",
    "8. **`numpy.random.normal`**\n",
    "    The numpy.random.normal function generates random numbers from a normal (Gaussian) distribution. This is useful for simulating data with a specific mean and standard deviation.\n",
    "    ```python\n",
    "    arr = np.random.normal(loc=0, scale=1, size=(3, 4))\n",
    "    print(arr)\n",
    "    \n",
    "    loc: Mean of the distribution. Default is 0.0.\n",
    "    scale: Standard deviation of the distribution. Default is 1.0.\n",
    "\n",
    "    ```\n",
    "     **Output**:\n",
    "   ```\n",
    "   [[ 1.13180988 -0.63446097  1.45985531 -0.45274872]\n",
    "     [-0.67548934  1.28997832 -1.22416163 -0.30653762]\n",
    "     [ 1.06822232  0.13236941  0.86727861 -0.04750807]]\n",
    "\n",
    "   ```"
   ]
  },
  {
   "cell_type": "markdown",
   "id": "777a097c",
   "metadata": {},
   "source": [
    "## Reshape array\n",
    "    numpy.reshape(a, newshape, order='C')\n"
   ]
  },
  {
   "cell_type": "code",
   "execution_count": 48,
   "id": "87242361",
   "metadata": {},
   "outputs": [
    {
     "name": "stdout",
     "output_type": "stream",
     "text": [
      "[ 0  1  2  3  4  5  6  7  8  9 10 11 12 13 14 15 16 17 18 19 20 21 22 23\n",
      " 24]\n",
      "[[ 0  1  2  3  4]\n",
      " [ 5  6  7  8  9]\n",
      " [10 11 12 13 14]\n",
      " [15 16 17 18 19]\n",
      " [20 21 22 23 24]]\n"
     ]
    }
   ],
   "source": [
    "arr=np.arange(25)\n",
    "print(arr)\n",
    "\n",
    "rearrange=arr.reshape(5,5) #ensure the new shape should be able to accomodate exactlt the same number of element\n",
    "print(rearrange)"
   ]
  },
  {
   "cell_type": "markdown",
   "id": "62b15206",
   "metadata": {},
   "source": [
    "# Max and Min value"
   ]
  },
  {
   "cell_type": "code",
   "execution_count": 47,
   "id": "8d14d508",
   "metadata": {},
   "outputs": [
    {
     "name": "stdout",
     "output_type": "stream",
     "text": [
      "[ 5 11 13 19 19  6  7 24 11  8]\n",
      "max element is 24 at location 7\n",
      "min element is 5 at location 0\n"
     ]
    }
   ],
   "source": [
    "arr=np.random.randint(1,25,10)\n",
    "print(arr)\n",
    "print(f\"max element is {arr.max()} at location {arr.argmax()}\")\n",
    "print(f\"min element is {arr.min()} at location {arr.argmin()}\")"
   ]
  }
 ],
 "metadata": {
  "kernelspec": {
   "display_name": "Python 3 (ipykernel)",
   "language": "python",
   "name": "python3"
  },
  "language_info": {
   "codemirror_mode": {
    "name": "ipython",
    "version": 3
   },
   "file_extension": ".py",
   "mimetype": "text/x-python",
   "name": "python",
   "nbconvert_exporter": "python",
   "pygments_lexer": "ipython3",
   "version": "3.7.16"
  }
 },
 "nbformat": 4,
 "nbformat_minor": 5
}
