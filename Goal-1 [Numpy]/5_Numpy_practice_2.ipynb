{
 "cells": [
  {
   "cell_type": "markdown",
   "id": "e2e3533c",
   "metadata": {},
   "source": [
    "# Practice Numpy\n",
    "    There are ton of ways to do that so if you have any other way of doing that you can go ahead and continue that and if   not then i found this website very helpful \n",
    "```bash\n",
    "https://www.machinelearningplus.com/python/101-numpy-exercises-python/\n",
    "```\n",
    "\n",
    "Note: Each cell will be the answer to the question from the above mentioned link"
   ]
  },
  {
   "cell_type": "code",
   "execution_count": 1,
   "id": "3a6f966d",
   "metadata": {},
   "outputs": [
    {
     "data": {
      "text/plain": [
       "'1.21.5'"
      ]
     },
     "execution_count": 1,
     "metadata": {},
     "output_type": "execute_result"
    }
   ],
   "source": [
    "# Ques 1. Import numpy as np and see the version\n",
    "\n",
    "\n",
    "import numpy as np\n",
    "np.__version__"
   ]
  },
  {
   "cell_type": "code",
   "execution_count": 2,
   "id": "900d2065",
   "metadata": {},
   "outputs": [
    {
     "data": {
      "text/plain": [
       "array([0, 1, 2, 3, 4, 5, 6, 7, 8, 9])"
      ]
     },
     "execution_count": 2,
     "metadata": {},
     "output_type": "execute_result"
    }
   ],
   "source": [
    "#Ques 2. How to create a 1D array 0 to 9?\n",
    "\n",
    "\n",
    "arr=np.arange(0,10)\n",
    "arr"
   ]
  },
  {
   "cell_type": "code",
   "execution_count": 3,
   "id": "db8070a2",
   "metadata": {},
   "outputs": [
    {
     "name": "stdout",
     "output_type": "stream",
     "text": [
      "[[ True  True  True]\n",
      " [ True  True  True]\n",
      " [ True  True  True]]\n",
      "[[ True  True  True]\n",
      " [ True  True  True]\n",
      " [ True  True  True]]\n"
     ]
    }
   ],
   "source": [
    "#Ques 3. Create a 3×3 numpy array of all True’s\n",
    "\n",
    "\n",
    "# The numpy.full() function creates a new array of a specified shape \n",
    "# and fills it with a specified value.\n",
    "# numpy.full(shape, fill_value, dtype=None, order='C')\n",
    "\n",
    "print(np.full((3,3),True,dtype=bool) ) # method 1\n",
    "other = np.repeat(True,9).reshape(3,-1) # method 2\n",
    "print(other)"
   ]
  },
  {
   "cell_type": "code",
   "execution_count": 4,
   "id": "c8c64f2a",
   "metadata": {},
   "outputs": [
    {
     "data": {
      "text/plain": [
       "array([1, 3, 5, 7, 9])"
      ]
     },
     "execution_count": 4,
     "metadata": {},
     "output_type": "execute_result"
    }
   ],
   "source": [
    "# Ques 4.  Extract all odd numbers from arr\n",
    "\n",
    "\n",
    "arr = np.array([0, 1, 2, 3, 4, 5, 6, 7, 8, 9])\n",
    "arr[arr%2!=0]"
   ]
  },
  {
   "cell_type": "code",
   "execution_count": 5,
   "id": "d3e1128a",
   "metadata": {},
   "outputs": [
    {
     "data": {
      "text/plain": [
       "array([ 0, -1,  2, -1,  4, -1,  6, -1,  8, -1])"
      ]
     },
     "execution_count": 5,
     "metadata": {},
     "output_type": "execute_result"
    }
   ],
   "source": [
    "# Ques 5. Replace all odd numbers in arr with -1\n",
    "\n",
    "arr[arr%2!=0]=-1\n",
    "arr"
   ]
  },
  {
   "cell_type": "markdown",
   "id": "c46b8b2c",
   "metadata": {},
   "source": [
    "# The numpy.where() function\n",
    "    Is used to return elements chosen from two arrays based on a condition. It can also be used to obtain indices of elements satisfying a condition. It is a powerful function for conditional operations and data manipulatio\n",
    "    \n",
    "    syntax:\n",
    "    numpy.where(condition, x=True, y=False)\n",
    "          when the condition is \"True\" x will be taken \n",
    "          when \"False\" value from y will be taken"
   ]
  },
  {
   "cell_type": "code",
   "execution_count": 6,
   "id": "7225f864",
   "metadata": {},
   "outputs": [
    {
     "name": "stdout",
     "output_type": "stream",
     "text": [
      "[ 0 -1  2 -1  4 -1  6 -1  8 -1]\n"
     ]
    },
    {
     "data": {
      "text/plain": [
       "array([0, 1, 2, 3, 4, 5, 6, 7, 8, 9])"
      ]
     },
     "execution_count": 6,
     "metadata": {},
     "output_type": "execute_result"
    }
   ],
   "source": [
    "# Ques 6. Replace all odd numbers in arr with -1 without changing arr\n",
    "\n",
    "\n",
    "arr = np.array([0, 1, 2, 3, 4, 5, 6, 7, 8, 9])\n",
    "print(np.where(arr%2!=0, -1,arr))\n",
    "arr"
   ]
  },
  {
   "cell_type": "code",
   "execution_count": 7,
   "id": "a54228ee",
   "metadata": {},
   "outputs": [
    {
     "name": "stdout",
     "output_type": "stream",
     "text": [
      "[0 1 2 3 4 5 6 7 8 9]\n"
     ]
    },
    {
     "data": {
      "text/plain": [
       "array([[0, 1, 2, 3, 4],\n",
       "       [5, 6, 7, 8, 9]])"
      ]
     },
     "execution_count": 7,
     "metadata": {},
     "output_type": "execute_result"
    }
   ],
   "source": [
    "# Ques 7. Convert a 1D array to a 2D array with 2 rows\n",
    "\n",
    "arr=np.arange(10)\n",
    "print(arr)\n",
    "arr=arr.reshape(2,-1) # using -1 will automatically decide the number of columns\n",
    "arr"
   ]
  },
  {
   "cell_type": "code",
   "execution_count": 8,
   "id": "3bb38376",
   "metadata": {},
   "outputs": [
    {
     "data": {
      "text/plain": [
       "array([[0, 1, 2, 3, 4],\n",
       "       [5, 6, 7, 8, 9],\n",
       "       [1, 1, 1, 1, 1],\n",
       "       [1, 1, 1, 1, 1]])"
      ]
     },
     "execution_count": 8,
     "metadata": {},
     "output_type": "execute_result"
    }
   ],
   "source": [
    "# Ques 8.Stack arrays a and b vertically\n",
    "\n",
    "\n",
    "a = np.arange(10).reshape(2,-1)\n",
    "b = np.repeat(1, 10).reshape(2,-1)\n",
    "\n",
    "# Method 1:\n",
    "np.concatenate([a, b], axis=0) # axis=0 (row)\n",
    "\n",
    "# Method 2:\n",
    "np.vstack([a, b]) # vertical stack\n",
    "\n",
    "# Method 3:\n",
    "np.r_[a, b]"
   ]
  },
  {
   "cell_type": "code",
   "execution_count": 9,
   "id": "0a31401e",
   "metadata": {},
   "outputs": [
    {
     "data": {
      "text/plain": [
       "array([[0, 1, 2, 3, 4, 1, 1, 1, 1, 1],\n",
       "       [5, 6, 7, 8, 9, 1, 1, 1, 1, 1]])"
      ]
     },
     "execution_count": 9,
     "metadata": {},
     "output_type": "execute_result"
    }
   ],
   "source": [
    "# Ques 9. Stack the arrays a and b horizontally.\n",
    "\n",
    "a = np.arange(10).reshape(2,-1)\n",
    "\n",
    "b = np.repeat(1, 10).reshape(2,-1)\n",
    "\n",
    "# Method 1:\n",
    "np.concatenate([a,b],axis=1)\n",
    "\n",
    "# Method 2:\n",
    "np.hstack([a,b]) # horizontal stack\n",
    "\n",
    "# Method 3:\n",
    "np.c_[a, b]"
   ]
  },
  {
   "cell_type": "code",
   "execution_count": 10,
   "id": "15000e78",
   "metadata": {},
   "outputs": [
    {
     "data": {
      "text/plain": [
       "array([1, 1, 1, 2, 2, 2, 3, 3, 3, 1, 2, 3, 1, 2, 3, 1, 2, 3])"
      ]
     },
     "execution_count": 10,
     "metadata": {},
     "output_type": "execute_result"
    }
   ],
   "source": [
    "# Ques 10. Create the following pattern without hardcoding. \n",
    "           #Use only numpy functions and the below input array a.\n",
    "           # array([1, 1, 1, 2, 2, 2, 3, 3, 3, 1, 2, 3, 1, 2, 3, 1, 2, 3])\n",
    "        \n",
    "        \n",
    "a = np.array([1,2,3])\n",
    "np.r_[np.repeat(a, 3), np.tile(a, 3)]"
   ]
  },
  {
   "cell_type": "code",
   "execution_count": 11,
   "id": "d7b290e8",
   "metadata": {},
   "outputs": [
    {
     "data": {
      "text/plain": [
       "array([1, 1, 1, 2, 2, 2, 3, 3, 3])"
      ]
     },
     "execution_count": 11,
     "metadata": {},
     "output_type": "execute_result"
    }
   ],
   "source": [
    "np.repeat(a,3) # Repeats each element in a 3 times."
   ]
  },
  {
   "cell_type": "code",
   "execution_count": 12,
   "id": "ce608b46",
   "metadata": {},
   "outputs": [
    {
     "data": {
      "text/plain": [
       "array([1, 2, 3, 1, 2, 3, 1, 2, 3])"
      ]
     },
     "execution_count": 12,
     "metadata": {},
     "output_type": "execute_result"
    }
   ],
   "source": [
    "np.tile(a,3) # Repeats the entire array a 3 times."
   ]
  },
  {
   "cell_type": "code",
   "execution_count": 13,
   "id": "62f3e296",
   "metadata": {},
   "outputs": [
    {
     "data": {
      "text/plain": [
       "array([2, 3, 4, 3, 4, 5, 4, 5, 6])"
      ]
     },
     "execution_count": 13,
     "metadata": {},
     "output_type": "execute_result"
    }
   ],
   "source": [
    "np.repeat(a,3)+np.tile(a,3) # this will add 2 arrays instead of concatenating "
   ]
  },
  {
   "cell_type": "code",
   "execution_count": 14,
   "id": "64db4a09",
   "metadata": {},
   "outputs": [
    {
     "data": {
      "text/plain": [
       "array([1, 1, 1, 2, 2, 2, 3, 3, 3, 1, 2, 3, 1, 2, 3, 1, 2, 3])"
      ]
     },
     "execution_count": 14,
     "metadata": {},
     "output_type": "execute_result"
    }
   ],
   "source": [
    "np.concatenate([np.repeat(a,3),np.tile(a,3)]) # correct"
   ]
  },
  {
   "cell_type": "code",
   "execution_count": 15,
   "id": "0c5428f6",
   "metadata": {},
   "outputs": [
    {
     "data": {
      "text/plain": [
       "array([2, 4])"
      ]
     },
     "execution_count": 15,
     "metadata": {},
     "output_type": "execute_result"
    }
   ],
   "source": [
    "#Ques 11. Get the common items between a and b\n",
    "\n",
    "a = np.array([1,2,3,2,3,4,3,4,5,6])\n",
    "b = np.array([7,2,10,2,7,4,9,4,9,8])\n",
    "\n",
    "temp=np.intersect1d(a,b)\n",
    "temp"
   ]
  },
  {
   "cell_type": "code",
   "execution_count": 16,
   "id": "39ea791c",
   "metadata": {},
   "outputs": [
    {
     "data": {
      "text/plain": [
       "array([1, 2, 3, 4])"
      ]
     },
     "execution_count": 16,
     "metadata": {},
     "output_type": "execute_result"
    }
   ],
   "source": [
    "# Ques 12. From array \"a\" remove all items present in array b\n",
    "\n",
    "\n",
    "a = np.array([1,2,3,4,5])\n",
    "b = np.array([5,6,7,8,9])\n",
    "\n",
    "union=np.intersect1d(a,b)\n",
    "mask=~np.isin(a,b) #create a boolean mask where elements of 'a' are not in 'b'\n",
    "a[mask]\n",
    "\n",
    "#note: Both numpy and pandas has this isin function but they differ in syntax\n",
    "# In Numpy synatx = numpy.isin(a,b)  [Elements common in a,b]\n",
    "# In Pandas syntax = a.isin(b)"
   ]
  },
  {
   "cell_type": "code",
   "execution_count": 17,
   "id": "2011ef3a",
   "metadata": {},
   "outputs": [
    {
     "data": {
      "text/plain": [
       "(array([1, 3, 5, 7], dtype=int64),)"
      ]
     },
     "execution_count": 17,
     "metadata": {},
     "output_type": "execute_result"
    }
   ],
   "source": [
    "# Ques 13.Get the positions where elements of a and b match\n",
    "\n",
    "\n",
    "a = np.array([1,2,3,2,3,4,3,4,5,6])\n",
    "b = np.array([7,2,10,2,7,4,9,4,9,8])\n",
    "np.where(a==b)"
   ]
  },
  {
   "cell_type": "code",
   "execution_count": 18,
   "id": "d5ab043f",
   "metadata": {},
   "outputs": [
    {
     "name": "stdout",
     "output_type": "stream",
     "text": [
      "[ 6  9 10]\n"
     ]
    },
    {
     "data": {
      "text/plain": [
       "array([ 6,  9, 10])"
      ]
     },
     "execution_count": 18,
     "metadata": {},
     "output_type": "execute_result"
    }
   ],
   "source": [
    "# Ques 14.  Get all items between 5 and 10 from a.\n",
    "\n",
    "a = np.array([2, 6, 1, 9, 10, 3, 27])\n",
    "\n",
    "# Method 1\n",
    "index = np.where((a >= 5) & (a <= 10))\n",
    "print(a[index])\n",
    "\n",
    "# Method 2\n",
    "a[(a>=5) & (a<=10)]"
   ]
  },
  {
   "cell_type": "markdown",
   "id": "464ebe1f",
   "metadata": {},
   "source": [
    "## numpy.vectorize()\n",
    "    Is a NumPy function that allows you to apply a Python function element-wise to arrays. It            transforms a regular Python function, which normally operates on scalars, into a vectorized    function that can operate on NumPy arrays.\n",
    "    \n",
    "    Syntax:\n",
    "        np.vectorize(pyfunc, otypes=None, signature=None)\n"
   ]
  },
  {
   "cell_type": "code",
   "execution_count": 19,
   "id": "96beb417",
   "metadata": {},
   "outputs": [
    {
     "data": {
      "text/plain": [
       "array([6, 7, 9, 8, 9, 7, 5])"
      ]
     },
     "execution_count": 19,
     "metadata": {},
     "output_type": "execute_result"
    }
   ],
   "source": [
    "# Ques 15. Convert the function maxx that works on two scalars, to work on two arrays.\n",
    "def maxx(x, y):\n",
    "    \"\"\"Get the maximum of two items\"\"\"\n",
    "    if x >= y:\n",
    "        return x\n",
    "    else:\n",
    "        return y\n",
    "\n",
    "a = np.array([5, 7, 9, 8, 6, 4, 5])\n",
    "b = np.array([6, 3, 4, 8, 9, 7, 1])\n",
    "\n",
    "pair_max = np.vectorize(maxx, otypes=[int])\n",
    "pair_max(a,b)"
   ]
  },
  {
   "cell_type": "code",
   "execution_count": 20,
   "id": "bb727306",
   "metadata": {},
   "outputs": [
    {
     "data": {
      "text/plain": [
       "array([[0, 1, 2],\n",
       "       [3, 4, 5],\n",
       "       [6, 7, 8]])"
      ]
     },
     "execution_count": 20,
     "metadata": {},
     "output_type": "execute_result"
    }
   ],
   "source": [
    "# Ques 16.Swap columns 1 and 2 in the array arr:\n",
    "\n",
    "\n",
    "arr = np.arange(9).reshape(3,3)\n",
    "arr"
   ]
  },
  {
   "cell_type": "code",
   "execution_count": 21,
   "id": "52362694",
   "metadata": {},
   "outputs": [
    {
     "data": {
      "text/plain": [
       "array([[1, 0, 2],\n",
       "       [4, 3, 5],\n",
       "       [7, 6, 8]])"
      ]
     },
     "execution_count": 21,
     "metadata": {},
     "output_type": "execute_result"
    }
   ],
   "source": [
    "arr[:,[1,0,2]] # we can choose the order of columns \"col1 , col0 , col2\""
   ]
  },
  {
   "cell_type": "code",
   "execution_count": 22,
   "id": "c8e286af",
   "metadata": {},
   "outputs": [
    {
     "name": "stdout",
     "output_type": "stream",
     "text": [
      "[[0 1 2]\n",
      " [3 4 5]\n",
      " [6 7 8]]\n"
     ]
    },
    {
     "data": {
      "text/plain": [
       "array([[3, 4, 5],\n",
       "       [0, 1, 2],\n",
       "       [6, 7, 8]])"
      ]
     },
     "execution_count": 22,
     "metadata": {},
     "output_type": "execute_result"
    }
   ],
   "source": [
    "# Ques 17. Swap rows 1 and 2 in the array arr:\n",
    "\n",
    "\n",
    "arr = np.arange(9).reshape(3,3)\n",
    "print(arr)\n",
    "arr[[1,0,2],:]"
   ]
  },
  {
   "cell_type": "code",
   "execution_count": 23,
   "id": "8dae27a1",
   "metadata": {},
   "outputs": [
    {
     "name": "stdout",
     "output_type": "stream",
     "text": [
      "[[0 1 2]\n",
      " [3 4 5]\n",
      " [6 7 8]]\n",
      "[[6 7 8]\n",
      " [3 4 5]\n",
      " [0 1 2]]\n"
     ]
    },
    {
     "data": {
      "text/plain": [
       "array([[6, 7, 8],\n",
       "       [3, 4, 5],\n",
       "       [0, 1, 2]])"
      ]
     },
     "execution_count": 23,
     "metadata": {},
     "output_type": "execute_result"
    }
   ],
   "source": [
    "# Ques 18. Reverse the rows of a 2D array arr.\n",
    "\n",
    "\n",
    "arr = np.arange(9).reshape(3,3)\n",
    "print(arr)\n",
    "\n",
    "# Method 1\n",
    "print(arr[[2,1,0],:])\n",
    "\n",
    "# Method 2\n",
    "arr[::-1]"
   ]
  },
  {
   "cell_type": "code",
   "execution_count": 24,
   "id": "9ccd726c",
   "metadata": {},
   "outputs": [
    {
     "name": "stdout",
     "output_type": "stream",
     "text": [
      "[[0 1 2]\n",
      " [3 4 5]\n",
      " [6 7 8]]\n"
     ]
    },
    {
     "data": {
      "text/plain": [
       "array([[2, 1, 0],\n",
       "       [5, 4, 3],\n",
       "       [8, 7, 6]])"
      ]
     },
     "execution_count": 24,
     "metadata": {},
     "output_type": "execute_result"
    }
   ],
   "source": [
    "# Ques 19. Reverse the columns of a 2D array arr\n",
    "\n",
    "\n",
    "arr = np.arange(9).reshape(3,3)\n",
    "print(arr)\n",
    "\n",
    "# Method 1\n",
    "arr[:,::-1]\n",
    "\n",
    "# Method 2\n",
    "arr[:,[2,1,0]]"
   ]
  },
  {
   "cell_type": "code",
   "execution_count": 25,
   "id": "74c0e4f7",
   "metadata": {},
   "outputs": [
    {
     "name": "stdout",
     "output_type": "stream",
     "text": [
      "[[ 8  6 10]\n",
      " [ 8  6 10]\n",
      " [ 5  9  5]\n",
      " [10  9  9]\n",
      " [ 5 10  9]]\n"
     ]
    },
    {
     "data": {
      "text/plain": [
       "array([[ 7.11279172,  6.09135442,  9.71361057],\n",
       "       [10.79289933,  6.39412197,  5.5013686 ],\n",
       "       [ 8.62129053,  9.37395654,  6.65743297],\n",
       "       [ 9.11183797,  8.10720485,  5.29090722],\n",
       "       [ 5.82721543,  6.12180456, 10.96590741]])"
      ]
     },
     "execution_count": 25,
     "metadata": {},
     "output_type": "execute_result"
    }
   ],
   "source": [
    "# Ques 20. Create a 2D array of shape 5x3 to contain random decimal numbers between 5 and 10.\n",
    "\n",
    "\n",
    "np.random.seed(101)\n",
    "\n",
    "# Method 1\n",
    "arr=np.random.randint(low=5,high=11,size=(5,3)) \n",
    "print(arr)\n",
    "\n",
    "# Method 2\n",
    "arr=np.random.uniform(5,11,size=(5,3))\n",
    "arr"
   ]
  },
  {
   "cell_type": "code",
   "execution_count": 26,
   "id": "2409dee7",
   "metadata": {},
   "outputs": [
    {
     "data": {
      "text/plain": [
       "array([[0.521, 0.579, 0.735],\n",
       "       [0.542, 0.913, 0.808],\n",
       "       [0.403, 0.357, 0.953],\n",
       "       [0.344, 0.865, 0.83 ],\n",
       "       [0.538, 0.922, 0.097]])"
      ]
     },
     "execution_count": 26,
     "metadata": {},
     "output_type": "execute_result"
    }
   ],
   "source": [
    "# Ques 21.Print or show only 3 decimal places of the numpy array rand_arr.\n",
    "\n",
    "\n",
    "rand_arr = np.random.random((5,3))\n",
    "np.set_printoptions(precision=3)\n",
    "rand_arr"
   ]
  },
  {
   "cell_type": "code",
   "execution_count": 27,
   "id": "28d73cc6",
   "metadata": {},
   "outputs": [
    {
     "name": "stdout",
     "output_type": "stream",
     "text": [
      "[[5.434e-04 2.784e-04 4.245e-04]\n",
      " [8.448e-04 4.719e-06 1.216e-04]\n",
      " [6.707e-04 8.259e-04 1.367e-04]]\n"
     ]
    },
    {
     "data": {
      "text/plain": [
       "array([[0.000543, 0.000278, 0.000425],\n",
       "       [0.000845, 0.000005, 0.000122],\n",
       "       [0.000671, 0.000826, 0.000137]])"
      ]
     },
     "execution_count": 27,
     "metadata": {},
     "output_type": "execute_result"
    }
   ],
   "source": [
    "# Ques 22. Pretty print rand_arr by suppressing the scientific notation (like 1e10)\n",
    "\n",
    "\n",
    "np.random.seed(100)\n",
    "rand_arr = np.random.random([3,3])/1e3\n",
    "print(rand_arr)\n",
    "\n",
    "np.set_printoptions(suppress=True, precision=6)  # precision is optional\n",
    "rand_arr"
   ]
  },
  {
   "cell_type": "code",
   "execution_count": 29,
   "id": "3bd76cff",
   "metadata": {},
   "outputs": [
    {
     "data": {
      "text/plain": [
       "array([ 0,  1,  2, ..., 12, 13, 14])"
      ]
     },
     "execution_count": 29,
     "metadata": {},
     "output_type": "execute_result"
    }
   ],
   "source": [
    "# Ques 23.  Limit the number of items printed in python numpy array a to a maximum of 6 elements.\n",
    "\n",
    "\n",
    "a = np.arange(15)\n",
    "np.set_printoptions(threshold=6)\n",
    "a"
   ]
  },
  {
   "cell_type": "code",
   "execution_count": 32,
   "id": "a491a8be",
   "metadata": {},
   "outputs": [
    {
     "name": "stdout",
     "output_type": "stream",
     "text": [
      "[ 0  1  2 ... 12 13 14]\n"
     ]
    },
    {
     "data": {
      "text/plain": [
       "array([ 0,  1,  2,  3,  4,  5,  6,  7,  8,  9, 10, 11, 12, 13, 14])"
      ]
     },
     "execution_count": 32,
     "metadata": {},
     "output_type": "execute_result"
    }
   ],
   "source": [
    "# Ques 24. Print the full numpy array a without truncating\n",
    "\n",
    "\n",
    "a = np.arange(15)\n",
    "print(a)\n",
    "np.set_printoptions(threshold=np.inf)  # Resets the threshold\n",
    "a"
   ]
  },
  {
   "cell_type": "code",
   "execution_count": 36,
   "id": "da610d56",
   "metadata": {},
   "outputs": [
    {
     "data": {
      "text/plain": [
       "array([[b'5.1', b'3.5', b'1.4', b'0.2', b'Iris-setosa'],\n",
       "       [b'4.9', b'3.0', b'1.4', b'0.2', b'Iris-setosa'],\n",
       "       [b'4.7', b'3.2', b'1.3', b'0.2', b'Iris-setosa']], dtype=object)"
      ]
     },
     "execution_count": 36,
     "metadata": {},
     "output_type": "execute_result"
    }
   ],
   "source": [
    "# Ques 25. Import the iris dataset keeping the text intact.\n",
    "\n",
    "\n",
    "url = 'https://archive.ics.uci.edu/ml/machine-learning-databases/iris/iris.data'\n",
    "iris = np.genfromtxt(url, delimiter=',', dtype='object')\n",
    "iris[:3] # printing first 3 rows only\n",
    "\n",
    "# Note: In pandas we can use head(n) to print only first n rows but in Numpy we dont have that"
   ]
  }
 ],
 "metadata": {
  "kernelspec": {
   "display_name": "Python 3 (ipykernel)",
   "language": "python",
   "name": "python3"
  },
  "language_info": {
   "codemirror_mode": {
    "name": "ipython",
    "version": 3
   },
   "file_extension": ".py",
   "mimetype": "text/x-python",
   "name": "python",
   "nbconvert_exporter": "python",
   "pygments_lexer": "ipython3",
   "version": "3.7.16"
  }
 },
 "nbformat": 4,
 "nbformat_minor": 5
}
